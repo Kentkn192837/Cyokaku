{
 "cells": [
  {
   "cell_type": "code",
   "execution_count": 1,
   "id": "b31c7cec-3ffc-4017-8f9a-0cc5274f0d3b",
   "metadata": {},
   "outputs": [],
   "source": [
    "import wave\n",
    "import numpy as np\n",
    "from matplotlib import pyplot as plt\n",
    "%matplotlib inline"
   ]
  },
  {
   "cell_type": "code",
   "execution_count": 2,
   "id": "fe004df3-51d6-4e89-baf0-e26639fdcc65",
   "metadata": {},
   "outputs": [
    {
     "name": "stdout",
     "output_type": "stream",
     "text": [
      "チャンネル数:  1\n",
      "サンプリング周波数:  11025\n",
      "フレーム数:  55296\n",
      "サンプル幅:  2\n",
      "各パラメータ:  _wave_params(nchannels=1, sampwidth=2, framerate=11025, nframes=55296, comptype='NONE', compname='not compressed')\n",
      "時間:  5.015510204081632\n"
     ]
    }
   ],
   "source": [
    "# 遅延FIRフィルタを作成し、インパルス状の信号を時間τだけ遅延させよ。\n",
    "# τはサンプリング周期の整数倍の場合とそうでない場合の両方について示せ\n",
    "# 音声データの読み込み\n",
    "wf = wave.open(\"exam.wav\", \"r\")\n",
    "# モノラル:1 ステレオ:2\n",
    "print(\"チャンネル数: \", wf.getnchannels())\n",
    "print(\"サンプリング周波数: \", wf.getframerate())\n",
    "print(\"フレーム数: \", wf.getnframes())\n",
    "print(\"サンプル幅: \", wf.getsampwidth())\n",
    "print(\"各パラメータ: \", wf.getparams())\n",
    "print(\"時間: \", wf.getnframes() / wf.getframerate())"
   ]
  },
  {
   "cell_type": "code",
   "execution_count": null,
   "id": "29697fa2-3544-4462-8ffe-321e249025fc",
   "metadata": {},
   "outputs": [],
   "source": []
  }
 ],
 "metadata": {
  "kernelspec": {
   "display_name": "Python 3",
   "language": "python",
   "name": "python3"
  },
  "language_info": {
   "codemirror_mode": {
    "name": "ipython",
    "version": 3
   },
   "file_extension": ".py",
   "mimetype": "text/x-python",
   "name": "python",
   "nbconvert_exporter": "python",
   "pygments_lexer": "ipython3",
   "version": "3.8.5"
  }
 },
 "nbformat": 4,
 "nbformat_minor": 5
}
