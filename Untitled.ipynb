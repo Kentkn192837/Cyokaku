{
 "cells": [
  {
   "cell_type": "code",
   "execution_count": 9,
   "id": "a1543d18-4f37-406d-a119-97e309a334b2",
   "metadata": {},
   "outputs": [],
   "source": [
    "import wave\n",
    "from scipy import signal\n",
    "import numpy as np\n",
    "from matplotlib import pyplot as plt\n",
    "%matplotlib inline"
   ]
  },
  {
   "cell_type": "code",
   "execution_count": 17,
   "id": "767d2343-81ae-4263-bb64-1c05ad7644f8",
   "metadata": {},
   "outputs": [
    {
     "ename": "NameError",
     "evalue": "name 'wf' is not defined",
     "output_type": "error",
     "traceback": [
      "\u001b[1;31m---------------------------------------------------------------------------\u001b[0m",
      "\u001b[1;31mNameError\u001b[0m                                 Traceback (most recent call last)",
      "\u001b[1;32m<ipython-input-17-737a654c3efb>\u001b[0m in \u001b[0;36m<module>\u001b[1;34m\u001b[0m\n\u001b[0;32m     24\u001b[0m             \u001b[0mr\u001b[0m\u001b[1;33m[\u001b[0m\u001b[0mlag\u001b[0m\u001b[1;33m]\u001b[0m \u001b[1;33m+=\u001b[0m \u001b[0mx\u001b[0m\u001b[1;33m[\u001b[0m\u001b[0mn\u001b[0m\u001b[1;33m]\u001b[0m \u001b[1;33m*\u001b[0m \u001b[0mx\u001b[0m\u001b[1;33m[\u001b[0m\u001b[0mn\u001b[0m \u001b[1;33m+\u001b[0m \u001b[0mlag\u001b[0m\u001b[1;33m]\u001b[0m\u001b[1;33m\u001b[0m\u001b[1;33m\u001b[0m\u001b[0m\n\u001b[0;32m     25\u001b[0m     \u001b[1;32mreturn\u001b[0m \u001b[0mr\u001b[0m\u001b[1;33m\u001b[0m\u001b[1;33m\u001b[0m\u001b[0m\n\u001b[1;32m---> 26\u001b[1;33m \u001b[0mprint\u001b[0m\u001b[1;33m(\u001b[0m\u001b[0mwf\u001b[0m\u001b[1;33m)\u001b[0m\u001b[1;33m\u001b[0m\u001b[1;33m\u001b[0m\u001b[0m\n\u001b[0m\u001b[0;32m     27\u001b[0m \u001b[1;32mdef\u001b[0m \u001b[0mmain\u001b[0m\u001b[1;33m(\u001b[0m\u001b[1;33m)\u001b[0m\u001b[1;33m:\u001b[0m\u001b[1;33m\u001b[0m\u001b[1;33m\u001b[0m\u001b[0m\n\u001b[0;32m     28\u001b[0m     \u001b[0mwf\u001b[0m\u001b[1;33m,\u001b[0m \u001b[0mfs\u001b[0m \u001b[1;33m=\u001b[0m \u001b[0mread_wav\u001b[0m\u001b[1;33m(\u001b[0m\u001b[1;34m'exam.wav'\u001b[0m\u001b[1;33m)\u001b[0m\u001b[1;33m\u001b[0m\u001b[1;33m\u001b[0m\u001b[0m\n",
      "\u001b[1;31mNameError\u001b[0m: name 'wf' is not defined"
     ]
    }
   ],
   "source": [
    "def read_wav(file):\n",
    "    wf = wave.open(file, \"r\")\n",
    "    framerate = wf.getframerate()\n",
    "    return wf, framerate\n",
    "\n",
    "def mean_wav(wf):\n",
    "    x = wf.readframes(wf.getnframes())\n",
    "    x = np.frombuffer(x, dtype=\"int16\") / 2 ** (wf.getsampwidth() * 8 - 1)\n",
    "    return x\n",
    "\n",
    "def data_plot(data, framerate):\n",
    "    t = np.arange(0, len(data)) / framerate\n",
    "    plt.xlabel(\"Time\")\n",
    "    plt.ylabel(\"Waveform\")\n",
    "    plt.plot(t, data)\n",
    "    plt.show()\n",
    "\n",
    "def autocorr(x, nlags=None):\n",
    "    N = len(x)\n",
    "    if nlags == None: nlags = N\n",
    "    r = np.zeros(nlags)\n",
    "    for lag in range(nlags):\n",
    "        for n in range(N - lag):\n",
    "            r[lag] += x[n] * x[n + lag]\n",
    "    return r\n",
    "\n",
    "def main():\n",
    "    wf, fs = read_wav('exam.wav')\n",
    "    wav = mean_wav(wf)\n",
    "    print(wav)\n",
    "    \n",
    "    data_plot(wav, fs)\n",
    "\n",
    "main()"
   ]
  },
  {
   "cell_type": "code",
   "execution_count": 18,
   "id": "d151725d-0b87-46e9-bd46-80bee598bcbc",
   "metadata": {},
   "outputs": [
    {
     "data": {
      "text/plain": [
       "array([[0., 0., 0.],\n",
       "       [0., 0., 0.],\n",
       "       [0., 0., 0.]])"
      ]
     },
     "execution_count": 18,
     "metadata": {},
     "output_type": "execute_result"
    }
   ],
   "source": [
    "np.zeros((3,3))"
   ]
  }
 ],
 "metadata": {
  "kernelspec": {
   "display_name": "Python 3",
   "language": "python",
   "name": "python3"
  },
  "language_info": {
   "codemirror_mode": {
    "name": "ipython",
    "version": 3
   },
   "file_extension": ".py",
   "mimetype": "text/x-python",
   "name": "python",
   "nbconvert_exporter": "python",
   "pygments_lexer": "ipython3",
   "version": "3.8.5"
  }
 },
 "nbformat": 4,
 "nbformat_minor": 5
}
