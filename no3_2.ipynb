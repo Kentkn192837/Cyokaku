{
 "cells": [
  {
   "cell_type": "code",
   "execution_count": 1,
   "id": "c9cb18a7-9c50-4936-a5fc-882323b4f9ee",
   "metadata": {},
   "outputs": [],
   "source": [
    "from math import pi, cos\n",
    "from scipy import signal\n",
    "import numpy as np\n",
    "import copy\n",
    "from matplotlib import pyplot as plt\n",
    "%matplotlib inline"
   ]
  },
  {
   "cell_type": "code",
   "execution_count": 2,
   "id": "fcdb7357-956f-42d0-8741-2a007eda8c17",
   "metadata": {},
   "outputs": [],
   "source": [
    "def hamming_window(t, D, D0, Lw):\n",
    "    if D - Lw / 2 <= t and t <= D + Lw / 2:\n",
    "        return 0.54 + 0.46 * cos(2 * pi * (t - D - D0) / Lw)\n",
    "    else:\n",
    "        return 0\n",
    "\n",
    "def firfilter(i, D, D0, T, Lw):\n",
    "    return np.sinc((pi / T) * (i * T - D - D0)) * hamming_window(t * T, D, D0, Lw)"
   ]
  },
  {
   "cell_type": "code",
   "execution_count": 89,
   "id": "efd38555-3a24-4ebc-9f78-26d4101a128a",
   "metadata": {},
   "outputs": [
    {
     "data": {
      "image/png": "[encoded data removed]",
      "text/plain": [
       "<Figure size 432x288 with 1 Axes>"
      ]
     },
     "metadata": {
      "needs_background": "light"
     },
     "output_type": "display_data"
    },
    {
     "data": {
      "text/plain": [
       "-0.0"
      ]
     },
     "execution_count": 89,
     "metadata": {},
     "output_type": "execute_result"
    }
   ],
   "source": [
    "# parameters--------------------------------------\n",
    "T = 0.01 # サンプリング周期 1[ms]\n",
    "t = int(500 / T) # フレーム数 1インデックス進むごとに1/T秒が経過する\n",
    "D = 1 # 遅延時間[s]\n",
    "D0 = 0.0001 # 固定遅延\n",
    "Lw = 0.01 # 窓長\n",
    "impulse = 450 # インパルス信号出現位置[ms]\n",
    "# ------------------------------------------------\n",
    "\n",
    "org_signal = signal.unit_impulse(t, int(impulse / T))\n",
    "test_signal = copy.deepcopy(org_signal)\n",
    "\n",
    "\n",
    "for i in range(len(test_signal)):\n",
    "    test_signal[i] = firfilter(i * T, D / T, D0 / T, T, Lw)\n",
    "\n",
    "time = np.array(range(i + 1))\n",
    "time = time / T\n",
    "plt.plot(time, test_signal, label=\"Delayed\")\n",
    "plt.plot(time, org_signal, label=\"Original\")\n",
    "# plt.ylim(-0.00001, 0.00001)\n",
    "plt.xlabel(\"time[s]\")\n",
    "plt.ylabel(\"frequency[Hz]\")\n",
    "plt.legend(bbox_to_anchor=(1.05, 1), loc='upper left', borderaxespad=0, fontsize=14)\n",
    "plt.show()\n",
    "test_signal[0]"
   ]
  }
 ],
 "metadata": {
  "kernelspec": {
   "display_name": "Python 3",
   "language": "python",
   "name": "python3"
  },
  "language_info": {
   "codemirror_mode": {
    "name": "ipython",
    "version": 3
   },
   "file_extension": ".py",
   "mimetype": "text/x-python",
   "name": "python",
   "nbconvert_exporter": "python",
   "pygments_lexer": "ipython3",
   "version": "3.8.5"
  }
 },
 "nbformat": 4,
 "nbformat_minor": 5
}
